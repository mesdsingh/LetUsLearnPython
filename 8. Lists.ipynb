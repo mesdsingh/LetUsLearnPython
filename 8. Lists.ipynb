{
  "nbformat": 4,
  "nbformat_minor": 0,
  "metadata": {
    "colab": {
      "provenance": [],
      "collapsed_sections": [
        "EyUkVPDlGODy"
      ],
      "authorship_tag": "ABX9TyO1m0Dsi2vY/JpRJha54xGZ",
      "include_colab_link": true
    },
    "kernelspec": {
      "name": "python3",
      "display_name": "Python 3"
    },
    "language_info": {
      "name": "python"
    }
  },
  "cells": [
    {
      "cell_type": "markdown",
      "metadata": {
        "id": "view-in-github",
        "colab_type": "text"
      },
      "source": [
        "<a href=\"https://colab.research.google.com/github/mesdsingh/LetUsLearnPython/blob/main/8.%20Lists.ipynb\" target=\"_parent\"><img src=\"https://colab.research.google.com/assets/colab-badge.svg\" alt=\"Open In Colab\"/></a>"
      ]
    },
    {
      "cell_type": "markdown",
      "source": [
        "# Problems"
      ],
      "metadata": {
        "id": "EyUkVPDlGODy"
      }
    },
    {
      "cell_type": "markdown",
      "source": [
        "## Problem 8.1.\n",
        "\n",
        "Perform the following operations on a list of names.\n",
        "- Create a list of 5 names - 'Anil', 'Amol', 'Aditya', 'Avi', 'Alka'.\n",
        "- Insert a name 'Anuj' before 'Aditya'.\n",
        "- Append a name 'Zulu.\n",
        "- Delete 'Avi' from the list.\n",
        "- Replace 'Anil' with 'AnilKumar'.\n",
        "- Sort all the name in the list.\n",
        "- Print reversed sorted list."
      ],
      "metadata": {
        "id": "szbeKtOBOuY1"
      }
    },
    {
      "cell_type": "code",
      "source": [
        "# Create a list of 5 names - 'Anil', 'Amol', 'Aditya', 'Avi', 'Alka'.\n",
        "names = ['Anil', 'Amol', 'Aditya', 'Avi', 'Alka']\n",
        "print(names)\n",
        "\n",
        "# Insert a name 'Anuj' before 'Aditya'.\n",
        "names.insert(2, 'Anuj')\n",
        "print(names)\n",
        "\n",
        "# Append a name 'Zulu.\n",
        "names.append('Zulu')\n",
        "print(names)\n",
        "\n",
        "# Delete 'Avi' from the list.\n",
        "names.remove('Avi')\n",
        "print(names)\n",
        "\n",
        "# Replace 'Anil' with 'AnilKumar'.\n",
        "i = names.index('Anil')\n",
        "names[i] = 'AnilKumar'\n",
        "print(names)\n",
        "\n",
        "# Sort all the name in the list.\n",
        "names.sort()\n",
        "print(names)\n",
        "\n",
        "# Print reversed sorted list.\n",
        "names.reverse()\n",
        "print(names)"
      ],
      "metadata": {
        "colab": {
          "base_uri": "https://localhost:8080/"
        },
        "id": "PmwjaqZYPsBh",
        "outputId": "1fff2c0e-5a15-4ce8-a51b-ad1623e78f3c"
      },
      "execution_count": null,
      "outputs": [
        {
          "output_type": "stream",
          "name": "stdout",
          "text": [
            "['Anil', 'Amol', 'Aditya', 'Avi', 'Alka']\n",
            "['Anil', 'Amol', 'Anuj', 'Aditya', 'Avi', 'Alka']\n",
            "['Anil', 'Amol', 'Anuj', 'Aditya', 'Avi', 'Alka', 'Zulu']\n",
            "['Anil', 'Amol', 'Anuj', 'Aditya', 'Alka', 'Zulu']\n",
            "['AnilKumar', 'Amol', 'Anuj', 'Aditya', 'Alka', 'Zulu']\n",
            "['Aditya', 'Alka', 'Amol', 'AnilKumar', 'Anuj', 'Zulu']\n",
            "['Zulu', 'Anuj', 'AnilKumar', 'Amol', 'Alka', 'Aditya']\n"
          ]
        }
      ]
    },
    {
      "cell_type": "markdown",
      "source": [
        "## Problem 8.2.\n",
        "\n",
        "Perform the following operations on a list of numbers.\n",
        "- Create a list of 5 odd numbers.\n",
        "- Create a list of 5 even numbers.\n",
        "- Combine the two lists.\n",
        "- Add prime numbers 11, 17, 29 at the beginning of the combined list.\n",
        "- Report how many elements are present in the list.\n",
        "- Replace last 3 numbers in the list with 100, 200, 300.\n",
        "- Delete all the numbers in the list.\n",
        "- Delete the list."
      ],
      "metadata": {
        "id": "AJxAXsZiUlyz"
      }
    },
    {
      "cell_type": "code",
      "source": [
        "# Create a list of 5 odd numbers.\n",
        "odd_lists = [ 1, 3, 5, 7, 9]\n",
        "print(odd_lists)\n",
        "\n",
        "# Create a list of 5 even numbers.\n",
        "even_lists = [2, 4, 6, 8, 10]\n",
        "print(even_lists)\n",
        "\n",
        "# Combine the two lists.\n",
        "lst1 = odd_lists + even_lists\n",
        "print(lst1)\n",
        "\n",
        "# Add prime numbers 11, 17, 29 at the beginning of the combined list.\n",
        "lst1 = [11, 17, 29] + lst1\n",
        "print(lst1)\n",
        "\n",
        "# Report how many elements are present in the list.\n",
        "num = len(lst1)\n",
        "print(f'Number of elements in list: {num}')\n",
        "\n",
        "# Replace last 3 numbers in the list with 100, 200, 300.\n",
        "lst1[num-3:num] = [100, 200, 300]\n",
        "print(lst1)\n",
        "\n",
        "# Delete all the numbers in the list.\n",
        "lst1[:] = []\n",
        "print(lst1)\n",
        "\n",
        "# Delete the list.\n",
        "del lst1\n",
        "print('List Deleted')"
      ],
      "metadata": {
        "colab": {
          "base_uri": "https://localhost:8080/"
        },
        "id": "JQKwE4hgRLwl",
        "outputId": "633eacd5-fd93-4b63-c5ba-9ae668833e73"
      },
      "execution_count": null,
      "outputs": [
        {
          "output_type": "stream",
          "name": "stdout",
          "text": [
            "[1, 3, 5, 7, 9]\n",
            "[2, 4, 6, 8, 10]\n",
            "[1, 3, 5, 7, 9, 2, 4, 6, 8, 10]\n",
            "[11, 17, 29, 1, 3, 5, 7, 9, 2, 4, 6, 8, 10]\n",
            "Number of elements in list: 13\n",
            "[11, 17, 29, 1, 3, 5, 7, 9, 2, 4, 100, 200, 300]\n",
            "[]\n",
            "List Deleted\n"
          ]
        }
      ]
    },
    {
      "cell_type": "markdown",
      "source": [
        "## Problem 8.3.\n",
        "\n",
        "Write a program to implement a Stack data structure. Stack is a Last In First Out (LIFO) list in which addition and deletion takes place at the same end."
      ],
      "metadata": {
        "id": "x8TQubWbeJLC"
      }
    },
    {
      "cell_type": "code",
      "source": [
        "# Stack - LIFO list\n",
        "s = []\n",
        "\n",
        "# Push elements on stack.\n",
        "s.append('Suhana')\n",
        "s.append('Shanana')\n",
        "s.append('Shakila')\n",
        "s.append('Sameera')\n",
        "print(s)\n",
        "\n",
        "\n",
        "# Pop elements from stack.\n",
        "print(s.pop())\n",
        "print(s.pop())\n",
        "# print(s.pop())\n",
        "print(s)"
      ],
      "metadata": {
        "colab": {
          "base_uri": "https://localhost:8080/"
        },
        "id": "_bYLDY1lefby",
        "outputId": "784e3eb6-11fd-4686-8e55-2dae8eea48c7"
      },
      "execution_count": null,
      "outputs": [
        {
          "output_type": "stream",
          "name": "stdout",
          "text": [
            "['Suhana', 'Shanana', 'Shakila', 'Sameera']\n",
            "Sameera\n",
            "Shakila\n",
            "['Suhana', 'Shanana']\n"
          ]
        }
      ]
    },
    {
      "cell_type": "markdown",
      "source": [
        "## Problem 8.4.\n",
        "\n",
        "Write a program to implement a Queue data structure. Queue is a First In First Out (FiFo) list, in which addition takes place at the rear end of the queue and deletion takes place at the front end of the queue."
      ],
      "metadata": {
        "id": "UxJIaL95Ykqy"
      }
    },
    {
      "cell_type": "code",
      "source": [
        "import collections\n",
        "\n",
        "q = collections.deque()\n",
        "\n",
        "# add elements in queue.\n",
        "q.append('Suhana')\n",
        "q.append('Shanana')\n",
        "q.append('Shakila')\n",
        "q.append('Sameera')\n",
        "print(q)\n",
        "\n",
        "# delete elements in queue.\n",
        "print(q.popleft())\n",
        "print(q.popleft())\n",
        "# print(q.popleft())\n",
        "print(q)"
      ],
      "metadata": {
        "colab": {
          "base_uri": "https://localhost:8080/"
        },
        "id": "3-hzNH5lYqNY",
        "outputId": "f705d2b7-9f08-4bbb-8772-0bca94417355"
      },
      "execution_count": null,
      "outputs": [
        {
          "output_type": "stream",
          "name": "stdout",
          "text": [
            "deque(['Suhana', 'Shanana', 'Shakila', 'Sameera'])\n",
            "Suhana\n",
            "Shanana\n",
            "deque(['Shakila', 'Sameera'])\n"
          ]
        }
      ]
    },
    {
      "cell_type": "markdown",
      "source": [
        "## Problem 8.5.\n",
        "\n",
        "Write a program to generate and store in a list 20 random numbers in the range 10 to 100. From this list delete all those entries which have value between 20 and 50. Print the remaining list."
      ],
      "metadata": {
        "id": "RXwKHCIlDAtr"
      }
    },
    {
      "cell_type": "code",
      "source": [
        "import random\n",
        "\n",
        "lst = []\n",
        "i = 1\n",
        "while i <= 25:\n",
        "  num = random.randint(10, 100)\n",
        "  lst.append(num)\n",
        "  i += 1\n",
        "print(lst)\n",
        "print(len(lst))\n",
        "\n",
        "for num in lst:\n",
        "  if num >20 and num < 50:\n",
        "    lst.remove(num)\n",
        "\n",
        "print(lst)\n",
        "print(len(lst))"
      ],
      "metadata": {
        "colab": {
          "base_uri": "https://localhost:8080/"
        },
        "id": "NiEx8nC0Daxm",
        "outputId": "eeb46d52-ed4c-4d3f-c4f9-9051c797b04c"
      },
      "execution_count": 8,
      "outputs": [
        {
          "output_type": "stream",
          "name": "stdout",
          "text": [
            "[40, 77, 83, 10, 31, 68, 55, 58, 56, 28, 47, 94, 34, 94, 44, 30, 89, 25, 80, 13, 73, 19, 36, 79, 66]\n",
            "25\n",
            "[77, 83, 10, 68, 55, 58, 56, 47, 94, 94, 30, 89, 80, 13, 73, 19, 79, 66]\n",
            "18\n"
          ]
        }
      ]
    },
    {
      "cell_type": "markdown",
      "source": [
        "## Problem 8.6.\n",
        "\n",
        "Write a program to add two 3x4 matricex."
      ],
      "metadata": {
        "id": "7t4U1AtPEYFC"
      }
    },
    {
      "cell_type": "markdown",
      "source": [],
      "metadata": {
        "id": "ZVKNC46PeIgi"
      }
    },
    {
      "cell_type": "code",
      "source": [
        "matrix1 = [[1, 2, 3, 4], [5, 6, 7, 8], [9, 10, 11, 12]]\n",
        "matrix2 = [[1, 2, 3, 4], [5, 6, 7, 8], [9, 10, 11, 12]]\n",
        "matrix3 = [[0, 0, 0, 0], [0, 0, 0, 0], [0, 0, 0, 0]]\n",
        "\n",
        "for i in range(len(matrix1)):\n",
        "  for j in range(len(matrix1[0])):\n",
        "    matrix3[i][j] = matrix1[i][j] + matrix2[i][j]\n",
        "print(matrix3)"
      ],
      "metadata": {
        "colab": {
          "base_uri": "https://localhost:8080/"
        },
        "id": "vIGpP8rGEh_F",
        "outputId": "781a8891-5b97-46b6-9ef4-79fb26bdee06"
      },
      "execution_count": 12,
      "outputs": [
        {
          "output_type": "stream",
          "name": "stdout",
          "text": [
            "[[2, 4, 6, 8], [10, 12, 14, 16], [18, 20, 22, 24]]\n"
          ]
        }
      ]
    },
    {
      "cell_type": "markdown",
      "source": [
        "# Excercises"
      ],
      "metadata": {
        "id": "If1I9Pk7GfQX"
      }
    },
    {
      "cell_type": "markdown",
      "source": [
        "## Excercise 8.A"
      ],
      "metadata": {
        "id": "WZnlfgmwGqEh"
      }
    },
    {
      "cell_type": "code",
      "source": [
        "#  What will be the output of the following  programs ?\n",
        "# (a)\n",
        "msg = list('www.kicit.com')\n",
        "ch = msg[-1]\n",
        "print(ch)"
      ],
      "metadata": {
        "colab": {
          "base_uri": "https://localhost:8080/"
        },
        "id": "RfP25UvWGzjz",
        "outputId": "2d7d46a3-918e-4bc2-d289-5b30196dbed4"
      },
      "execution_count": 13,
      "outputs": [
        {
          "output_type": "stream",
          "name": "stdout",
          "text": [
            "m\n"
          ]
        }
      ]
    },
    {
      "cell_type": "code",
      "source": [
        "# (b)\n",
        "msg = list('kanlabs.teachable.com')\n",
        "s = msg[4:6]\n",
        "print(s)"
      ],
      "metadata": {
        "colab": {
          "base_uri": "https://localhost:8080/"
        },
        "id": "rCmjMhejHFlv",
        "outputId": "0e314939-bf79-4dd9-e37b-7abd3a39e572"
      },
      "execution_count": 14,
      "outputs": [
        {
          "output_type": "stream",
          "name": "stdout",
          "text": [
            "['a', 'b']\n"
          ]
        }
      ]
    },
    {
      "cell_type": "code",
      "source": [
        "# (c)\n",
        "msg = 'Online Courses - Kanlabs'\n",
        "s = list(msg[:3])\n",
        "print(s)"
      ],
      "metadata": {
        "colab": {
          "base_uri": "https://localhost:8080/"
        },
        "id": "x6HTpKtGHZRA",
        "outputId": "991af607-51a2-4ae7-d4dc-4ffcd8af0428"
      },
      "execution_count": 15,
      "outputs": [
        {
          "output_type": "stream",
          "name": "stdout",
          "text": [
            "['O', 'n', 'l']\n"
          ]
        }
      ]
    },
    {
      "cell_type": "code",
      "source": [
        "# (d)\n",
        "msg ='Rahate Colony'\n",
        "s = list(msg[-5:-2])\n",
        "print(s)"
      ],
      "metadata": {
        "colab": {
          "base_uri": "https://localhost:8080/"
        },
        "id": "_d_EhhKiHnC3",
        "outputId": "c795ccaf-cf89-44d8-8c7d-f4966f86b8dc"
      },
      "execution_count": 16,
      "outputs": [
        {
          "output_type": "stream",
          "name": "stdout",
          "text": [
            "['o', 'l', 'o']\n"
          ]
        }
      ]
    },
    {
      "cell_type": "code",
      "source": [
        "# (e)\n",
        "s = list('Kanlabs')\n",
        "t = s[::-1]\n",
        "print(t)"
      ],
      "metadata": {
        "colab": {
          "base_uri": "https://localhost:8080/"
        },
        "id": "xTeEjXTAHvem",
        "outputId": "b4cdb02e-cd47-43e5-bce7-cafc1d591857"
      },
      "execution_count": 17,
      "outputs": [
        {
          "output_type": "stream",
          "name": "stdout",
          "text": [
            "['s', 'b', 'a', 'l', 'n', 'a', 'K']\n"
          ]
        }
      ]
    },
    {
      "cell_type": "code",
      "source": [
        "# (f)\n",
        "num1 = [10, 20, 30, 40, 50]\n",
        "num2 = num1\n",
        "print(id(num1))\n",
        "print(id(num2))\n",
        "print(type(num1))\n",
        "print(type(num2))\n",
        "print(isinstance(num1, list))\n",
        "print(isinstance(num2, list))\n",
        "print(num1 is num2)"
      ],
      "metadata": {
        "colab": {
          "base_uri": "https://localhost:8080/"
        },
        "id": "N-AHbOjjH650",
        "outputId": "3c057932-9a6b-421e-8d35-6a97977bd70b"
      },
      "execution_count": 24,
      "outputs": [
        {
          "output_type": "stream",
          "name": "stdout",
          "text": [
            "132051607676864\n",
            "132051607676864\n",
            "<class 'list'>\n",
            "<class 'list'>\n",
            "True\n",
            "True\n",
            "True\n"
          ]
        }
      ]
    },
    {
      "cell_type": "code",
      "source": [],
      "metadata": {
        "id": "XKm9IF4OIYzs"
      },
      "execution_count": null,
      "outputs": []
    }
  ]
}