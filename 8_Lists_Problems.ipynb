{
  "nbformat": 4,
  "nbformat_minor": 0,
  "metadata": {
    "colab": {
      "provenance": [],
      "authorship_tag": "ABX9TyNe+8IIDH/JX2mVp55YcirJ",
      "include_colab_link": true
    },
    "kernelspec": {
      "name": "python3",
      "display_name": "Python 3"
    },
    "language_info": {
      "name": "python"
    }
  },
  "cells": [
    {
      "cell_type": "markdown",
      "metadata": {
        "id": "view-in-github",
        "colab_type": "text"
      },
      "source": [
        "<a href=\"https://colab.research.google.com/github/mesdsingh/LetUsLearnPython/blob/main/8_Lists_Problems.ipynb\" target=\"_parent\"><img src=\"https://colab.research.google.com/assets/colab-badge.svg\" alt=\"Open In Colab\"/></a>"
      ]
    },
    {
      "cell_type": "markdown",
      "source": [
        "## Problem 8.1'.\n",
        "\n",
        "Perform the following operations on a list of names.\n",
        "- Create a list of 5 names - 'Anil', 'Amol', 'Aditya', 'Avi', 'Alka'.\n",
        "- Insert a name 'Anuj' before 'Aditya'.\n",
        "- Append a name 'Zulu.\n",
        "- Delete 'Avi' from the list.\n",
        "- Replace 'Anil' with 'AnilKumar'.\n",
        "- Sort all the name in the list.\n",
        "- Print reversed sorted list."
      ],
      "metadata": {
        "id": "szbeKtOBOuY1"
      }
    },
    {
      "cell_type": "code",
      "source": [
        "# Create a list of 5 names - 'Anil', 'Amol', 'Aditya', 'Avi', 'Alka'.\n",
        "names = ['Anil', 'Amol', 'Aditya', 'Avi', 'Alka']\n",
        "print(names)\n",
        "\n",
        "# Insert a name 'Anuj' before 'Aditya'.\n",
        "names.insert(2, 'Anuj')\n",
        "print(names)\n",
        "\n",
        "# Append a name 'Zulu.\n",
        "names.append('Zulu')\n",
        "print(names)\n",
        "\n",
        "# Delete 'Avi' from the list.\n",
        "names.remove('Avi')\n",
        "print(names)\n",
        "\n",
        "# Replace 'Anil' with 'AnilKumar'.\n",
        "i = names.index('Anil')\n",
        "names[i] = 'AnilKumar'\n",
        "print(names)\n",
        "\n",
        "# Sort all the name in the list.\n",
        "names.sort()\n",
        "print(names)\n",
        "\n",
        "# Print reversed sorted list.\n",
        "names.reverse()\n",
        "print(names)"
      ],
      "metadata": {
        "colab": {
          "base_uri": "https://localhost:8080/"
        },
        "id": "PmwjaqZYPsBh",
        "outputId": "1fff2c0e-5a15-4ce8-a51b-ad1623e78f3c"
      },
      "execution_count": 16,
      "outputs": [
        {
          "output_type": "stream",
          "name": "stdout",
          "text": [
            "['Anil', 'Amol', 'Aditya', 'Avi', 'Alka']\n",
            "['Anil', 'Amol', 'Anuj', 'Aditya', 'Avi', 'Alka']\n",
            "['Anil', 'Amol', 'Anuj', 'Aditya', 'Avi', 'Alka', 'Zulu']\n",
            "['Anil', 'Amol', 'Anuj', 'Aditya', 'Alka', 'Zulu']\n",
            "['AnilKumar', 'Amol', 'Anuj', 'Aditya', 'Alka', 'Zulu']\n",
            "['Aditya', 'Alka', 'Amol', 'AnilKumar', 'Anuj', 'Zulu']\n",
            "['Zulu', 'Anuj', 'AnilKumar', 'Amol', 'Alka', 'Aditya']\n"
          ]
        }
      ]
    },
    {
      "cell_type": "code",
      "source": [],
      "metadata": {
        "id": "JQKwE4hgRLwl"
      },
      "execution_count": null,
      "outputs": []
    }
  ]
}