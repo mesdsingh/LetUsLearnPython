{
  "cells": [
    {
      "cell_type": "markdown",
      "metadata": {
        "id": "view-in-github",
        "colab_type": "text"
      },
      "source": [
        "<a href=\"https://colab.research.google.com/github/mesdsingh/LetUsLearnPython/blob/main/12_Comprehensions.ipynb\" target=\"_parent\"><img src=\"https://colab.research.google.com/assets/colab-badge.svg\" alt=\"Open In Colab\"/></a>"
      ]
    },
    {
      "cell_type": "markdown",
      "id": "5fec60e2",
      "metadata": {
        "id": "5fec60e2"
      },
      "source": [
        "# <center><bold> Comprehension</bold></center>"
      ]
    },
    {
      "cell_type": "markdown",
      "id": "db03ff91",
      "metadata": {
        "id": "db03ff91"
      },
      "source": [
        "### List Comprehension\n",
        "#### List = [expr **for** var **in** sequence **[optional for and/or if]**]"
      ]
    },
    {
      "cell_type": "markdown",
      "id": "4401e6da",
      "metadata": {
        "id": "4401e6da"
      },
      "source": [
        "### Example of list comprehension"
      ]
    },
    {
      "cell_type": "code",
      "execution_count": null,
      "id": "9f137a4c",
      "metadata": {
        "id": "9f137a4c",
        "outputId": "25839036-6b95-4aa2-8c80-b50421526b8c"
      },
      "outputs": [
        {
          "name": "stdout",
          "output_type": "stream",
          "text": [
            "List of Random Number:[34, 76, 80, 54, 27, 77, 98, 100, 97, 60, 56, 30, 69, 59, 54, 64, 87, 67, 42, 98]\n"
          ]
        }
      ],
      "source": [
        "import random\n",
        "# generate 20 random numbers in the range 10 to 100.\n",
        "a = [random.randint(10, 100) for n in range(20)]\n",
        "print(f'List of Random Number:{a}')"
      ]
    },
    {
      "cell_type": "code",
      "execution_count": null,
      "id": "188044dd",
      "metadata": {
        "id": "188044dd",
        "outputId": "9ac9d836-057c-457f-9dfb-114a6edf2f4a"
      },
      "outputs": [
        {
          "data": {
            "text/plain": [
              "[(0, 0, 0),\n",
              " (1, 1, 1),\n",
              " (2, 4, 8),\n",
              " (3, 9, 27),\n",
              " (4, 16, 64),\n",
              " (5, 25, 125),\n",
              " (6, 36, 216),\n",
              " (7, 49, 343),\n",
              " (8, 64, 512),\n",
              " (9, 81, 729),\n",
              " (10, 100, 1000)]"
            ]
          },
          "execution_count": 33,
          "metadata": {},
          "output_type": "execute_result"
        }
      ],
      "source": [
        "# generate square and cube of all the numbers between 0 and 10.\n",
        "a = [(x, x**2, x**3) for x in range(11)]\n",
        "a"
      ]
    },
    {
      "cell_type": "code",
      "execution_count": null,
      "id": "e680172b",
      "metadata": {
        "id": "e680172b",
        "outputId": "9e2d3e8b-30e1-470c-f552-18faa6c9cb9c"
      },
      "outputs": [
        {
          "data": {
            "text/plain": [
              "[10, 20, 30, 40]"
            ]
          },
          "execution_count": 34,
          "metadata": {},
          "output_type": "execute_result"
        }
      ],
      "source": [
        "# convert a list of strings to a list of number.\n",
        "a = [int(x) for x in ['10', '20', '30', '40']]\n",
        "a"
      ]
    },
    {
      "cell_type": "markdown",
      "id": "9b413ede",
      "metadata": {
        "id": "9b413ede"
      },
      "source": [
        "### Examples of use of if in list comprehension"
      ]
    },
    {
      "cell_type": "code",
      "execution_count": null,
      "id": "c8e0e6db",
      "metadata": {
        "id": "c8e0e6db",
        "outputId": "cd208543-543e-4af6-91c2-d2455f3c3cf9"
      },
      "outputs": [
        {
          "data": {
            "text/plain": [
              "[10, 12, 14, 16, 18, 20, 22, 24, 26, 28]"
            ]
          },
          "execution_count": 36,
          "metadata": {},
          "output_type": "execute_result"
        }
      ],
      "source": [
        "# generate a list of even numbers in the range of 10 to 30.\n",
        "a = [ n for n in range(10, 30) if n % 2 == 0]\n",
        "a"
      ]
    },
    {
      "cell_type": "code",
      "execution_count": null,
      "id": "9db07f4a",
      "metadata": {
        "id": "9db07f4a",
        "outputId": "c88b498f-5bab-409d-9ba7-194daa4bfb30"
      },
      "outputs": [
        {
          "name": "stdout",
          "output_type": "stream",
          "text": [
            "list:[0, 1, 2, 3, 4, 5, 6, 7, 8, 9, 10]\n",
            "updated list:[0, 1, 2, 3, 8, 9, 10]\n"
          ]
        }
      ],
      "source": [
        "# from a list delete all numbers havning a value between 4 and 7.\n",
        "a = [n for n in range(0, 11)]\n",
        "print(f'list:{a}')\n",
        "a = [num for num in a if num < 4 or num > 7]\n",
        "print(f'updated list:{a}')"
      ]
    },
    {
      "cell_type": "markdown",
      "id": "7913ea03",
      "metadata": {
        "id": "7913ea03"
      },
      "source": [
        "### Example of use of if-else in list comprehension.\n",
        "when if-else both are used, place them before for-loop.\n"
      ]
    },
    {
      "cell_type": "code",
      "execution_count": null,
      "id": "55434c4e",
      "metadata": {
        "id": "55434c4e",
        "outputId": "328d8e93-72fc-4308-ce6b-61339ceacb0c"
      },
      "outputs": [
        {
          "data": {
            "text/plain": [
              "['S', '*', 'd', '*', 'r', 's', 'h', '*', 'n']"
            ]
          },
          "execution_count": 47,
          "metadata": {},
          "output_type": "execute_result"
        }
      ],
      "source": [
        "# replace a vowel in a string with $.\n",
        "\n",
        "a = ['*' if char in 'aeiou' else char for char in 'Sudarshan']\n",
        "a"
      ]
    },
    {
      "cell_type": "code",
      "execution_count": null,
      "id": "100e5559",
      "metadata": {
        "id": "100e5559"
      },
      "outputs": [],
      "source": [
        "# #  generate a list of square if number is even or cube if number is odd.\n",
        "# a = [n if n**2 in n%2==0 else n**3 for n in range(11)]\n",
        "# a"
      ]
    },
    {
      "cell_type": "code",
      "execution_count": null,
      "id": "49de7db1",
      "metadata": {
        "id": "49de7db1",
        "outputId": "0384d8ef-e689-47b0-dfaa-df82f7b26c8c"
      },
      "outputs": [
        {
          "data": {
            "text/plain": [
              "[1, 2, 3, 4, 5, 6, 7, 8, 9, 10, 11, 12]"
            ]
          },
          "execution_count": 54,
          "metadata": {},
          "output_type": "execute_result"
        }
      ],
      "source": [
        "# example of use of multiple for and if in list comprehension.\n",
        "# flatten a list of lists.(use * to unpack list) (simple method)\n",
        "arr = [[1, 2, 3, 4], [5, 6, 7, 8], [9, 10, 11, 12]]\n",
        "a = [*arr[0], *arr[1], *arr[2]]\n",
        "a"
      ]
    },
    {
      "cell_type": "code",
      "execution_count": null,
      "id": "dd6e6ca3",
      "metadata": {
        "id": "dd6e6ca3",
        "outputId": "9662a080-b626-4700-f55e-1256f23783eb"
      },
      "outputs": [
        {
          "data": {
            "text/plain": [
              "[1, 2, 3, 4, 5, 6, 7, 8, 9, 10, 11, 12]"
            ]
          },
          "execution_count": 55,
          "metadata": {},
          "output_type": "execute_result"
        }
      ],
      "source": [
        "# flatten a list of lists.\n",
        "arr = [[1, 2, 3, 4], [5, 6, 7, 8], [9, 10, 11, 12]]\n",
        "a = [n for element in arr for n in element]\n",
        "a"
      ]
    },
    {
      "cell_type": "code",
      "execution_count": null,
      "id": "7d84297c",
      "metadata": {
        "id": "7d84297c",
        "outputId": "ee5feb40-9c53-4c4a-9b6d-c566659e6474"
      },
      "outputs": [
        {
          "data": {
            "text/plain": [
              "[4, 5, 6, 5, 6, 7, 6, 7, 8]"
            ]
          },
          "execution_count": 56,
          "metadata": {},
          "output_type": "execute_result"
        }
      ],
      "source": [
        "# use nasted for in list comprehensio.\n",
        "a = [ a + b for a in [1, 2, 3] for b in [3, 4 ,5]]\n",
        "a"
      ]
    },
    {
      "cell_type": "code",
      "execution_count": null,
      "id": "02a2530d",
      "metadata": {
        "id": "02a2530d",
        "outputId": "fd8e70a9-7772-4116-cd56-287b1ba2646f"
      },
      "outputs": [
        {
          "data": {
            "text/plain": [
              "[[4], [5], [6], [5], [6], [7], [6], [7], [8]]"
            ]
          },
          "execution_count": 58,
          "metadata": {},
          "output_type": "execute_result"
        }
      ],
      "source": [
        "# use nasted for in list comprehensio.\n",
        "a = [[ a + b]for a in [1, 2, 3] for b in [3, 4 ,5]]\n",
        "a"
      ]
    },
    {
      "cell_type": "code",
      "execution_count": null,
      "id": "1fe7f278",
      "metadata": {
        "id": "1fe7f278",
        "outputId": "5e8b5d4e-e6a0-4ad1-c93d-b02e5e892414"
      },
      "outputs": [
        {
          "data": {
            "text/plain": [
              "[[4, 5, 6], [5, 6, 7], [6, 7, 8]]"
            ]
          },
          "execution_count": 59,
          "metadata": {},
          "output_type": "execute_result"
        }
      ],
      "source": [
        "# use nasted for in list comprehensio.\n",
        "a = [[ a + b for a in [1, 2, 3]] for b in [3, 4 ,5]]\n",
        "a"
      ]
    },
    {
      "cell_type": "code",
      "execution_count": null,
      "id": "d0123c58",
      "metadata": {
        "id": "d0123c58",
        "outputId": "62256faf-376d-4cfe-fb4d-33502e49d134"
      },
      "outputs": [
        {
          "data": {
            "text/plain": [
              "[[4, 5, 6, 5, 6, 7, 6, 7, 8]]"
            ]
          },
          "execution_count": 61,
          "metadata": {},
          "output_type": "execute_result"
        }
      ],
      "source": [
        "# use nasted for in list comprehensio.\n",
        "a = [[ a + b for a in [1, 2, 3] for b in [3, 4 ,5]]]\n",
        "a"
      ]
    },
    {
      "cell_type": "code",
      "execution_count": null,
      "id": "92ef6390",
      "metadata": {
        "id": "92ef6390",
        "outputId": "b4e55b66-70cb-48ff-ce1a-47c8f9e724f1"
      },
      "outputs": [
        {
          "data": {
            "text/plain": [
              "[(1, 2, 3), (1, 3, 2), (2, 1, 3), (2, 3, 1), (3, 1, 2), (3, 2, 1)]"
            ]
          },
          "execution_count": 68,
          "metadata": {},
          "output_type": "execute_result"
        }
      ],
      "source": [
        "# example of use of multiple for and if in list comprehension.\n",
        "# generate unique combination of 1, 2 and 3\n",
        "a = [(i, j, k) for i in [1, 2, 3] for j in [1, 2, 3] for k in [1, 2, 3]\\\n",
        "   if i !=j and j != k and k !=i]\n",
        "a"
      ]
    },
    {
      "cell_type": "code",
      "execution_count": null,
      "id": "4bbef7e6",
      "metadata": {
        "id": "4bbef7e6",
        "outputId": "88ed6015-e1c9-4833-c2f0-e562347078d5"
      },
      "outputs": [
        {
          "data": {
            "text/plain": [
              "[961, 1156, 1681, 2304]"
            ]
          },
          "execution_count": 77,
          "metadata": {},
          "output_type": "execute_result"
        }
      ],
      "source": [
        "alternative_list = [21, 26, 31, 34, 41, 48, 59, 63]\n",
        "\n",
        "[num**2 for num in alternative_list if 30 < num < 50]"
      ]
    },
    {
      "cell_type": "code",
      "execution_count": null,
      "id": "4b17b726",
      "metadata": {
        "id": "4b17b726",
        "outputId": "5e8ae79f-80e4-4e9f-f96f-ba23dec349f5"
      },
      "outputs": [
        {
          "data": {
            "text/html": [
              "<div>\n",
              "<style scoped>\n",
              "    .dataframe tbody tr th:only-of-type {\n",
              "        vertical-align: middle;\n",
              "    }\n",
              "\n",
              "    .dataframe tbody tr th {\n",
              "        vertical-align: top;\n",
              "    }\n",
              "\n",
              "    .dataframe thead th {\n",
              "        text-align: right;\n",
              "    }\n",
              "</style>\n",
              "<table border=\"1\" class=\"dataframe\">\n",
              "  <thead>\n",
              "    <tr style=\"text-align: right;\">\n",
              "      <th></th>\n",
              "      <th>Type</th>\n",
              "      <th>microseconds</th>\n",
              "    </tr>\n",
              "  </thead>\n",
              "  <tbody>\n",
              "    <tr>\n",
              "      <th>1</th>\n",
              "      <td>List Comprehension</td>\n",
              "      <td>208.80</td>\n",
              "    </tr>\n",
              "    <tr>\n",
              "      <th>0</th>\n",
              "      <td>For Loop</td>\n",
              "      <td>234.73</td>\n",
              "    </tr>\n",
              "  </tbody>\n",
              "</table>\n",
              "</div>"
            ],
            "text/plain": [
              "                 Type  microseconds\n",
              "1  List Comprehension        208.80\n",
              "0            For Loop        234.73"
            ]
          },
          "execution_count": 83,
          "metadata": {},
          "output_type": "execute_result"
        }
      ],
      "source": [
        "# Speed Test: List Comprehension vs. for loop\n",
        "\n",
        "import random\n",
        "import pandas as pd\n",
        "\n",
        "num_list = random.sample(range(0, 1000000), 10000)\n",
        "\n",
        "def for_loop():\n",
        "    new_list = []\n",
        "    for num in num_list:\n",
        "        if num > 500000:\n",
        "            new_list.append(num)\n",
        "\n",
        "def list_comp():\n",
        "    new_list = [num for num in num_list if num > 500000]\n",
        "\n",
        "\n",
        "# Calculate timings\n",
        "for_loop_time = %timeit -o -q for_loop()\n",
        "list_comp_time = %timeit -o -q list_comp()\n",
        "\n",
        "# Create data table\n",
        "data = [['For Loop', for_loop_time.average], ['List Comprehension', list_comp_time.average]]\n",
        "df = pd.DataFrame(data, columns=['Type', 'microseconds'])\n",
        "df.microseconds = round(df.microseconds * 1e6, 2)\n",
        "df.sort_values('microseconds', inplace=True)\n",
        "\n",
        "df"
      ]
    },
    {
      "cell_type": "code",
      "execution_count": null,
      "id": "09a537e2",
      "metadata": {
        "id": "09a537e2",
        "outputId": "df1dae61-208c-4c1f-fffe-534e9020fd50"
      },
      "outputs": [
        {
          "data": {
            "text/plain": [
              "[11, 19, 25, 12]"
            ]
          },
          "execution_count": 85,
          "metadata": {},
          "output_type": "execute_result"
        }
      ],
      "source": [
        "num_list = [4, 11, 2, 19, 7, 6, 25, 12]\n",
        "new_list = [num for num in num_list if num > 10]\n",
        "new_list"
      ]
    },
    {
      "cell_type": "code",
      "execution_count": null,
      "id": "ddfb6a9a",
      "metadata": {
        "id": "ddfb6a9a",
        "outputId": "a20d5d10-ce7e-40a4-bfcf-0717dbc0c6ef"
      },
      "outputs": [
        {
          "data": {
            "text/plain": [
              "[11, 19, 25, 12]"
            ]
          },
          "execution_count": 86,
          "metadata": {},
          "output_type": "execute_result"
        }
      ],
      "source": [
        "new_list = []\n",
        "for num in num_list:\n",
        "    if num > 10:\n",
        "        new_list.append(num)\n",
        "new_list"
      ]
    },
    {
      "cell_type": "code",
      "execution_count": null,
      "id": "dbcd3601",
      "metadata": {
        "id": "dbcd3601",
        "outputId": "cae9b8c9-1260-42cc-eff6-7fe90233aff1"
      },
      "outputs": [
        {
          "data": {
            "text/plain": [
              "[11, 19, 7, 6, 25, 12]"
            ]
          },
          "execution_count": 87,
          "metadata": {},
          "output_type": "execute_result"
        }
      ],
      "source": [
        "[num for num in num_list if num > 4]"
      ]
    },
    {
      "cell_type": "code",
      "execution_count": null,
      "id": "bd007575",
      "metadata": {
        "id": "bd007575",
        "outputId": "09e7f71c-8c83-44da-b9b6-8bdc0dd21f15"
      },
      "outputs": [
        {
          "data": {
            "text/plain": [
              "[11, 19, 7, 6, 25, 12]"
            ]
          },
          "execution_count": 88,
          "metadata": {},
          "output_type": "execute_result"
        }
      ],
      "source": [
        "new_list = []\n",
        "for num in num_list:\n",
        "    if num > 4:\n",
        "        new_list.append(num)\n",
        "new_list"
      ]
    },
    {
      "cell_type": "code",
      "execution_count": null,
      "id": "641af64e",
      "metadata": {
        "id": "641af64e",
        "outputId": "492936ba-1393-46d6-9387-03ba221e1e65"
      },
      "outputs": [
        {
          "data": {
            "text/plain": [
              "[7, 6]"
            ]
          },
          "execution_count": 89,
          "metadata": {},
          "output_type": "execute_result"
        }
      ],
      "source": [
        "num_list = [4, 11, 2, 19, 7, 6, 25, 12]\n",
        "\n",
        "[num for num in num_list if num > 4 and num < 8]"
      ]
    },
    {
      "cell_type": "code",
      "execution_count": null,
      "id": "7b235327",
      "metadata": {
        "id": "7b235327",
        "outputId": "fd73ddc7-5b49-43fe-def1-4789d9963802"
      },
      "outputs": [
        {
          "data": {
            "text/plain": [
              "[7, 6]"
            ]
          },
          "execution_count": 90,
          "metadata": {},
          "output_type": "execute_result"
        }
      ],
      "source": [
        "new_list = []\n",
        "for num in num_list:\n",
        "    if num > 4 and num < 8:\n",
        "        new_list.append(num)\n",
        "new_list"
      ]
    },
    {
      "cell_type": "code",
      "execution_count": null,
      "id": "1cbe41e5",
      "metadata": {
        "id": "1cbe41e5",
        "outputId": "a4daeea0-89c0-4cdb-bfb8-4d8f8a3b1f69"
      },
      "outputs": [
        {
          "data": {
            "text/plain": [
              "[4, 8, 4, 2, 28, 1, 12, 3, 6, 2]"
            ]
          },
          "execution_count": 92,
          "metadata": {},
          "output_type": "execute_result"
        }
      ],
      "source": [
        "list_of_lists = [['4', '8'], ['4', '2', '28'], ['1', '12'], ['3', '6', '2']]\n",
        "[int(i) for sublist in list_of_lists for i in sublist]"
      ]
    },
    {
      "cell_type": "code",
      "execution_count": null,
      "id": "9adb1a9a",
      "metadata": {
        "id": "9adb1a9a",
        "outputId": "8cf9a646-e411-4c2e-d4cf-9d03ea03de87"
      },
      "outputs": [
        {
          "data": {
            "text/plain": [
              "[[4, 8], [4, 2, 28], [1, 12], [3, 6, 2]]"
            ]
          },
          "execution_count": 93,
          "metadata": {},
          "output_type": "execute_result"
        }
      ],
      "source": [
        "[[int(j) for j in i] for i in list_of_lists]"
      ]
    },
    {
      "cell_type": "code",
      "execution_count": null,
      "id": "be6c07fe",
      "metadata": {
        "id": "be6c07fe",
        "outputId": "d680427e-b6a6-4620-b235-3e2ab993d59b"
      },
      "outputs": [
        {
          "data": {
            "text/plain": [
              "[[4, 8], [4, 2, 28], [1, 12], [3, 6, 2]]"
            ]
          },
          "execution_count": 96,
          "metadata": {},
          "output_type": "execute_result"
        }
      ],
      "source": [
        "new_list = []\n",
        "for i in list_of_lists:\n",
        "    new_list.append([int(j) for j in i])\n",
        "new_list"
      ]
    },
    {
      "cell_type": "markdown",
      "id": "f493d9bc",
      "metadata": {
        "id": "f493d9bc"
      },
      "source": [
        "### Set Comprehension"
      ]
    },
    {
      "cell_type": "markdown",
      "id": "32e04899",
      "metadata": {
        "id": "32e04899"
      },
      "source": [
        "#### set = {expr for var in sequence[optional for and/or if] }"
      ]
    },
    {
      "cell_type": "markdown",
      "id": "81b45c94",
      "metadata": {
        "id": "81b45c94"
      },
      "source": [
        "### Example of set comprehension"
      ]
    },
    {
      "cell_type": "code",
      "execution_count": null,
      "id": "ee12626a",
      "metadata": {
        "id": "ee12626a",
        "outputId": "8c3a40f2-32e9-4350-d88f-a3bbb87c714d"
      },
      "outputs": [
        {
          "name": "stdout",
          "output_type": "stream",
          "text": [
            "set of Random Number:{36, 69, 41, 10, 75, 79, 49, 18, 83, 82, 50, 86, 54, 56, 26, 91, 93, 30}\n"
          ]
        }
      ],
      "source": [
        "# generate 20 random numbers in the range 10 to 100.\n",
        "a = {random.randint(10, 100) for n in range(20)}\n",
        "print(f'set of Random Number:{a}')"
      ]
    },
    {
      "cell_type": "code",
      "execution_count": null,
      "id": "14519e8b",
      "metadata": {
        "id": "14519e8b",
        "outputId": "fd383d57-bedf-4d2f-aebf-178b6922246f"
      },
      "outputs": [
        {
          "data": {
            "text/plain": [
              "{0, 1, 4, 9, 16, 25, 36, 49, 64, 81}"
            ]
          },
          "execution_count": 7,
          "metadata": {},
          "output_type": "execute_result"
        }
      ],
      "source": [
        "# generate a set containing square of all numbers between 0 to 10.\n",
        "a = { i ** 2 for i in range(10)}\n",
        "a"
      ]
    },
    {
      "cell_type": "code",
      "execution_count": null,
      "id": "28f38099",
      "metadata": {
        "id": "28f38099",
        "outputId": "f1bfa17a-c40f-45ab-eb83-6fb494c61e8d"
      },
      "outputs": [
        {
          "data": {
            "text/plain": [
              "{(0, 0, 0),\n",
              " (1, 1, 1),\n",
              " (2, 4, 8),\n",
              " (3, 9, 27),\n",
              " (4, 16, 64),\n",
              " (5, 25, 125),\n",
              " (6, 36, 216),\n",
              " (7, 49, 343),\n",
              " (8, 64, 512),\n",
              " (9, 81, 729),\n",
              " (10, 100, 1000)}"
            ]
          },
          "execution_count": 8,
          "metadata": {},
          "output_type": "execute_result"
        }
      ],
      "source": [
        "# generate square and cube of all the numbers between 0 and 10.\n",
        "a = {(x, x**2, x**3) for x in range(11)}\n",
        "a"
      ]
    },
    {
      "cell_type": "code",
      "execution_count": null,
      "id": "23547862",
      "metadata": {
        "id": "23547862",
        "outputId": "16d1884c-9b9b-4574-e6b6-2dc19ffe6b6b"
      },
      "outputs": [
        {
          "name": "stdout",
          "output_type": "stream",
          "text": [
            "list:{0, 1, 2, 3, 4, 5, 6, 7, 8, 9, 10}\n",
            "updated list:{0, 1, 2, 3, 8, 9, 10}\n"
          ]
        }
      ],
      "source": [
        "# from set delete all numbers havning a value between 4 and 7.\n",
        "a = {n for n in range(0, 11)}\n",
        "print(f'list:{a}')\n",
        "a = {num for num in a if num < 4 or num > 7}\n",
        "print(f'updated list:{a}')"
      ]
    },
    {
      "cell_type": "markdown",
      "id": "39045181",
      "metadata": {
        "id": "39045181"
      },
      "source": [
        "### Dictionary Comprehension"
      ]
    },
    {
      "cell_type": "markdown",
      "id": "8a1f6aea",
      "metadata": {
        "id": "8a1f6aea"
      },
      "source": [
        "#### dict_var = {key:value for (key, value) in dictionanry.items()}"
      ]
    },
    {
      "cell_type": "markdown",
      "id": "fea98826",
      "metadata": {
        "id": "fea98826"
      },
      "source": [
        "### Example of dictionary comprehension"
      ]
    },
    {
      "cell_type": "code",
      "execution_count": null,
      "id": "ea163abb",
      "metadata": {
        "id": "ea163abb",
        "outputId": "8c93e43d-62bb-4aba-edc1-77a5c7ac35c5"
      },
      "outputs": [
        {
          "data": {
            "text/plain": [
              "{'a': 1, 'b': 8, 'c': 27, 'd': 64}"
            ]
          },
          "execution_count": 10,
          "metadata": {},
          "output_type": "execute_result"
        }
      ],
      "source": [
        "d = {'a':1, 'b':2, 'c':3, 'd':4}\n",
        "\n",
        "# obtain dictionary with each value cubed.\n",
        "d1 = {k:v**3 for (k,v) in d.items()}\n",
        "d1"
      ]
    },
    {
      "cell_type": "code",
      "execution_count": null,
      "id": "6b1a93ac",
      "metadata": {
        "id": "6b1a93ac",
        "outputId": "04e2d04a-27d7-49f9-ab9d-5d09c454f844"
      },
      "outputs": [
        {
          "data": {
            "text/plain": [
              "{'d': 64}"
            ]
          },
          "execution_count": 11,
          "metadata": {},
          "output_type": "execute_result"
        }
      ],
      "source": [
        "# obtain dictionary with each value cubed if value >3.\n",
        "d1 = {k:v**3 for (k,v) in d.items()if v>3}\n",
        "d1"
      ]
    },
    {
      "cell_type": "code",
      "execution_count": null,
      "id": "25db6dc5",
      "metadata": {
        "id": "25db6dc5",
        "outputId": "2355f371-a317-4138-a9e3-5b9331e35717"
      },
      "outputs": [
        {
          "data": {
            "text/plain": [
              "{'a': 'Odd', 'b': 'Even', 'c': 'Odd', 'd': 'Even'}"
            ]
          },
          "execution_count": 12,
          "metadata": {},
          "output_type": "execute_result"
        }
      ],
      "source": [
        "# identify odd and even entries in the dictionary.\n",
        "d1 = {k:('Even' if v % 2 == 0 else 'Odd') for (k,v) in d.items()}\n",
        "d1"
      ]
    },
    {
      "cell_type": "markdown",
      "source": [
        "# Problems"
      ],
      "metadata": {
        "id": "0-BRDZR9NzS2"
      },
      "id": "0-BRDZR9NzS2"
    },
    {
      "cell_type": "code",
      "source": [],
      "metadata": {
        "id": "YqcNg9qlNw0O"
      },
      "id": "YqcNg9qlNw0O",
      "execution_count": null,
      "outputs": []
    },
    {
      "cell_type": "markdown",
      "source": [
        "# Excercises 12.B.\n"
      ],
      "metadata": {
        "id": "HeRv2tC0N5qQ"
      },
      "id": "HeRv2tC0N5qQ"
    },
    {
      "cell_type": "markdown",
      "source": [
        "### (a).Write a program that generates a list of integer coordinates for all points in the first quadrant from (1, 1) to (5, 5). Use list comprehension."
      ],
      "metadata": {
        "id": "wEm8-KVCOA7P"
      },
      "id": "wEm8-KVCOA7P"
    },
    {
      "cell_type": "code",
      "source": [
        "lst = [(x,y) for x in range(1,6) for y in range(1,6)]\n",
        "lst"
      ],
      "metadata": {
        "colab": {
          "base_uri": "https://localhost:8080/"
        },
        "id": "QQtmX6s7OgUj",
        "outputId": "28f23242-8e6e-4caa-d50c-aded6bc6b9f4"
      },
      "id": "QQtmX6s7OgUj",
      "execution_count": null,
      "outputs": [
        {
          "output_type": "execute_result",
          "data": {
            "text/plain": [
              "[(1, 1),\n",
              " (1, 2),\n",
              " (1, 3),\n",
              " (1, 4),\n",
              " (1, 5),\n",
              " (2, 1),\n",
              " (2, 2),\n",
              " (2, 3),\n",
              " (2, 4),\n",
              " (2, 5),\n",
              " (3, 1),\n",
              " (3, 2),\n",
              " (3, 3),\n",
              " (3, 4),\n",
              " (3, 5),\n",
              " (4, 1),\n",
              " (4, 2),\n",
              " (4, 3),\n",
              " (4, 4),\n",
              " (4, 5),\n",
              " (5, 1),\n",
              " (5, 2),\n",
              " (5, 3),\n",
              " (5, 4),\n",
              " (5, 5)]"
            ]
          },
          "metadata": {},
          "execution_count": 1
        }
      ]
    },
    {
      "cell_type": "markdown",
      "source": [
        "###(b).Using list comprehension, write a program to create a list by multiplying each element in the list by 10."
      ],
      "metadata": {
        "id": "klVX8jbhOZ1f"
      },
      "id": "klVX8jbhOZ1f"
    },
    {
      "cell_type": "code",
      "source": [
        "lst = [-7, 10, 34, 2, 5, 45, 67]\n",
        "lst = [(x*10) for x in lst]\n",
        "lst"
      ],
      "metadata": {
        "colab": {
          "base_uri": "https://localhost:8080/"
        },
        "id": "KV6Ui-lcOtj6",
        "outputId": "faea4e3b-1b9b-46cc-b2a3-016eac42f191"
      },
      "id": "KV6Ui-lcOtj6",
      "execution_count": null,
      "outputs": [
        {
          "output_type": "execute_result",
          "data": {
            "text/plain": [
              "[-70, 100, 340, 20, 50, 450, 670]"
            ]
          },
          "metadata": {},
          "execution_count": 2
        }
      ]
    },
    {
      "cell_type": "markdown",
      "source": [
        "### (c). Write a program to generate first 20 Fibonacci numbers using list."
      ],
      "metadata": {
        "id": "KBLcFIR5OQ-r"
      },
      "id": "KBLcFIR5OQ-r"
    },
    {
      "cell_type": "code",
      "source": [
        "lst = [0, 1]\n",
        "fib_series = lst[0:2] + [lst.append(lst[-1] + lst[-2]) or lst[-1] for i in range(20)]\n",
        "fib_series"
      ],
      "metadata": {
        "colab": {
          "base_uri": "https://localhost:8080/"
        },
        "id": "2Y-mPODZO5QZ",
        "outputId": "def0ff4d-ab7e-46da-c716-ad6ba8dea080"
      },
      "id": "2Y-mPODZO5QZ",
      "execution_count": null,
      "outputs": [
        {
          "output_type": "execute_result",
          "data": {
            "text/plain": [
              "[0,\n",
              " 1,\n",
              " 1,\n",
              " 2,\n",
              " 3,\n",
              " 5,\n",
              " 8,\n",
              " 13,\n",
              " 21,\n",
              " 34,\n",
              " 55,\n",
              " 89,\n",
              " 144,\n",
              " 233,\n",
              " 377,\n",
              " 610,\n",
              " 987,\n",
              " 1597,\n",
              " 2584,\n",
              " 4181,\n",
              " 6765,\n",
              " 10946]"
            ]
          },
          "metadata": {},
          "execution_count": 3
        }
      ]
    },
    {
      "cell_type": "markdown",
      "source": [
        "### (d). Write a program to generate two lists using list comprehension. One list should contain first 20 odd numbers and another should contain first 20 even numbers."
      ],
      "metadata": {
        "id": "VAp8HptjORGZ"
      },
      "id": "VAp8HptjORGZ"
    },
    {
      "cell_type": "code",
      "source": [
        "even_list = [x for x in range(40) if x % 2 == 0]\n",
        "odd_list = [x for x in range(40) if x % 2 != 0]\n",
        "print(f'First 20 Even List: {even_list}, Total count:{len(even_list)}')\n",
        "print(f'First 20 Odd List: {odd_list}, Total count:{len(odd_list)}')"
      ],
      "metadata": {
        "colab": {
          "base_uri": "https://localhost:8080/"
        },
        "id": "Ilq86IdgPFl0",
        "outputId": "12d78830-ec72-4a82-ddf9-3ce8a02062f1"
      },
      "id": "Ilq86IdgPFl0",
      "execution_count": null,
      "outputs": [
        {
          "output_type": "stream",
          "name": "stdout",
          "text": [
            "First 20 Even List: [0, 2, 4, 6, 8, 10, 12, 14, 16, 18, 20, 22, 24, 26, 28, 30, 32, 34, 36, 38], Total count:20\n",
            "First 20 Odd List: [1, 3, 5, 7, 9, 11, 13, 15, 17, 19, 21, 23, 25, 27, 29, 31, 33, 35, 37, 39], Total count:20\n"
          ]
        }
      ]
    },
    {
      "cell_type": "markdown",
      "source": [
        "### (e). Suppose a list contains positive and negative numbers. Write a program to create two lists—one containing positive numbers and another containing negative numbers."
      ],
      "metadata": {
        "id": "WsWuBf3KORKT"
      },
      "id": "WsWuBf3KORKT"
    },
    {
      "cell_type": "code",
      "source": [
        "lst = [1, 2, 5, -11, -9, 10, 13, 15, -17, -19, -21, -23, 25, 27, -29]\n",
        "positive_list = [x for x in lst if x > 0]\n",
        "negative_list = [x for x in lst if x < 0]\n",
        "print(f'Positive List: {positive_list}')\n",
        "print(f'Negative List: {negative_list}')"
      ],
      "metadata": {
        "colab": {
          "base_uri": "https://localhost:8080/"
        },
        "id": "pNnKp26lPQpM",
        "outputId": "7c025f37-8550-48d0-96a3-d01936d22d26"
      },
      "id": "pNnKp26lPQpM",
      "execution_count": null,
      "outputs": [
        {
          "output_type": "stream",
          "name": "stdout",
          "text": [
            "Positive List: [1, 2, 5, 10, 13, 15, 25, 27]\n",
            "Negative List: [-11, -9, -17, -19, -21, -23, -29]\n"
          ]
        }
      ]
    },
    {
      "cell_type": "markdown",
      "source": [
        "### (f). Suppose a list contains 5 strings. Write a program to convert all these strings to uppercase."
      ],
      "metadata": {
        "id": "VAMJIyFpOROj"
      },
      "id": "VAMJIyFpOROj"
    },
    {
      "cell_type": "code",
      "source": [
        "lst = ['abc', 'def', 'ghi', 'jkl', 'lmn']\n",
        "upper_lst = [word.upper() for word in lst]\n",
        "upper_lst"
      ],
      "metadata": {
        "colab": {
          "base_uri": "https://localhost:8080/"
        },
        "id": "GdFz3sMtPRjF",
        "outputId": "f05b36f2-5282-4a6d-85ca-332cd129d853"
      },
      "id": "GdFz3sMtPRjF",
      "execution_count": null,
      "outputs": [
        {
          "output_type": "execute_result",
          "data": {
            "text/plain": [
              "['ABC', 'DEF', 'GHI', 'JKL', 'LMN']"
            ]
          },
          "metadata": {},
          "execution_count": 6
        }
      ]
    },
    {
      "cell_type": "markdown",
      "source": [
        "###(g). Write a program that converts list of temperatures in Fahrenheit degrees to equivalent Celsius degrees using list comprehension."
      ],
      "metadata": {
        "id": "U_0iKki6ORYI"
      },
      "id": "U_0iKki6ORYI"
    },
    {
      "cell_type": "code",
      "source": [
        "farh = [101, 120, 100, 67, 32]\n",
        "celsius = [round(((e - 32) * 5 / 9), 1) for e in farh]\n",
        "print(celsius)"
      ],
      "metadata": {
        "colab": {
          "base_uri": "https://localhost:8080/"
        },
        "id": "RjkmLglbPSda",
        "outputId": "e989815c-9d38-4e65-9b7a-c5f25fbad3a7"
      },
      "id": "RjkmLglbPSda",
      "execution_count": null,
      "outputs": [
        {
          "output_type": "stream",
          "name": "stdout",
          "text": [
            "[38.3, 48.9, 37.8, 19.4, 0.0]\n"
          ]
        }
      ]
    },
    {
      "cell_type": "markdown",
      "source": [
        "### (h). Write a program to generate a 2D matrix of size 4 x 5 containing random multiples of 4 in the range 40 to 160."
      ],
      "metadata": {
        "id": "KiA1rvpIPqlz"
      },
      "id": "KiA1rvpIPqlz"
    },
    {
      "cell_type": "code",
      "source": [],
      "metadata": {
        "id": "b0KM9HGbN79C"
      },
      "id": "b0KM9HGbN79C",
      "execution_count": null,
      "outputs": []
    },
    {
      "cell_type": "code",
      "source": [],
      "metadata": {
        "id": "PbmQBEZBOsja"
      },
      "id": "PbmQBEZBOsja",
      "execution_count": null,
      "outputs": []
    }
  ],
  "metadata": {
    "kernelspec": {
      "display_name": "Python 3 (ipykernel)",
      "language": "python",
      "name": "python3"
    },
    "language_info": {
      "codemirror_mode": {
        "name": "ipython",
        "version": 3
      },
      "file_extension": ".py",
      "mimetype": "text/x-python",
      "name": "python",
      "nbconvert_exporter": "python",
      "pygments_lexer": "ipython3",
      "version": "3.11.5"
    },
    "colab": {
      "provenance": [],
      "toc_visible": true,
      "include_colab_link": true
    }
  },
  "nbformat": 4,
  "nbformat_minor": 5
}